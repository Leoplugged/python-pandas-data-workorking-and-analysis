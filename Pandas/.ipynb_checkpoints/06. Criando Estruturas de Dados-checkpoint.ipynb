{
 "cells": [
  {
   "cell_type": "markdown",
   "id": "293ca568",
   "metadata": {},
   "source": [
    "# Criando Estruturas de Dados"
   ]
  },
  {
   "cell_type": "code",
   "execution_count": 2,
   "id": "7f924072",
   "metadata": {},
   "outputs": [],
   "source": [
    "import pandas as pd"
   ]
  },
  {
   "cell_type": "markdown",
   "id": "4c795db4",
   "metadata": {},
   "source": [
    "## Series"
   ]
  },
  {
   "cell_type": "markdown",
   "id": "bc8d8767",
   "metadata": {},
   "source": [
    "### Por meio de Index..."
   ]
  },
  {
   "cell_type": "code",
   "execution_count": 11,
   "id": "1c8134ae",
   "metadata": {},
   "outputs": [
    {
     "data": {
      "text/plain": [
       "0    1\n",
       "1    2\n",
       "2    3\n",
       "3    4\n",
       "4    5\n",
       "dtype: int64"
      ]
     },
     "execution_count": 11,
     "metadata": {},
     "output_type": "execute_result"
    }
   ],
   "source": [
    "data = [1, 2, 3, 4, 5]\n",
    "s = pd.Series(data)\n",
    "s"
   ]
  },
  {
   "cell_type": "code",
   "execution_count": 12,
   "id": "9cd9c561",
   "metadata": {},
   "outputs": [
    {
     "data": {
      "text/plain": [
       "['Linha_0', 'Linha_1', 'Linha_2', 'Linha_3', 'Linha_4']"
      ]
     },
     "execution_count": 12,
     "metadata": {},
     "output_type": "execute_result"
    }
   ],
   "source": [
    "index = ['Linha_' + str(i) for i in range(5)]\n",
    "index"
   ]
  },
  {
   "cell_type": "code",
   "execution_count": 13,
   "id": "98de4105",
   "metadata": {},
   "outputs": [
    {
     "data": {
      "text/plain": [
       "Linha_0    1\n",
       "Linha_1    2\n",
       "Linha_2    3\n",
       "Linha_3    4\n",
       "Linha_4    5\n",
       "dtype: int64"
      ]
     },
     "execution_count": 13,
     "metadata": {},
     "output_type": "execute_result"
    }
   ],
   "source": [
    "s = pd.Series(data = data, index = index)\n",
    "s"
   ]
  },
  {
   "cell_type": "markdown",
   "id": "6988cce1",
   "metadata": {},
   "source": [
    "### Por meio de Dicionário..."
   ]
  },
  {
   "cell_type": "code",
   "execution_count": 17,
   "id": "9572c2c7",
   "metadata": {},
   "outputs": [
    {
     "data": {
      "text/plain": [
       "{'Linha_0': 1, 'Linha_1': 2, 'Linha_2': 3, 'Linha_3': 4, 'Linha_4': 5}"
      ]
     },
     "execution_count": 17,
     "metadata": {},
     "output_type": "execute_result"
    }
   ],
   "source": [
    "data = {'Linha_' + str(i) : i + 1 for i in range(5) }   # Outra maneira, é criando o dicionário, passando-o para pd.Series\n",
    "data"
   ]
  },
  {
   "cell_type": "code",
   "execution_count": 19,
   "id": "b83f3914",
   "metadata": {},
   "outputs": [
    {
     "data": {
      "text/plain": [
       "Linha_0    1\n",
       "Linha_1    2\n",
       "Linha_2    3\n",
       "Linha_3    4\n",
       "Linha_4    5\n",
       "dtype: int64"
      ]
     },
     "execution_count": 19,
     "metadata": {},
     "output_type": "execute_result"
    }
   ],
   "source": [
    "s = pd.Series(data)    # dispensa passar o index, pois será usada a chave do dicionário criado\n",
    "s"
   ]
  },
  {
   "cell_type": "code",
   "execution_count": 21,
   "id": "1659c7c1",
   "metadata": {},
   "outputs": [
    {
     "data": {
      "text/plain": [
       "Linha_0    3\n",
       "Linha_1    4\n",
       "Linha_2    5\n",
       "Linha_3    6\n",
       "Linha_4    7\n",
       "dtype: int64"
      ]
     },
     "execution_count": 21,
     "metadata": {},
     "output_type": "execute_result"
    }
   ],
   "source": [
    "s1 = s + 2\n",
    "s1"
   ]
  },
  {
   "cell_type": "code",
   "execution_count": 23,
   "id": "941524a4",
   "metadata": {},
   "outputs": [
    {
     "data": {
      "text/plain": [
       "Linha_0     4\n",
       "Linha_1     6\n",
       "Linha_2     8\n",
       "Linha_3    10\n",
       "Linha_4    12\n",
       "dtype: int64"
      ]
     },
     "execution_count": 23,
     "metadata": {},
     "output_type": "execute_result"
    }
   ],
   "source": [
    "s2 =  s + s1\n",
    "s2"
   ]
  }
 ],
 "metadata": {
  "kernelspec": {
   "display_name": "Python 3 (ipykernel)",
   "language": "python",
   "name": "python3"
  },
  "language_info": {
   "codemirror_mode": {
    "name": "ipython",
    "version": 3
   },
   "file_extension": ".py",
   "mimetype": "text/x-python",
   "name": "python",
   "nbconvert_exporter": "python",
   "pygments_lexer": "ipython3",
   "version": "3.11.5"
  }
 },
 "nbformat": 4,
 "nbformat_minor": 5
}
